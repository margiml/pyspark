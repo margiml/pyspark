{
 "cells": [
  {
   "cell_type": "markdown",
   "id": "a53e174d",
   "metadata": {},
   "source": [
    "Data sets taken from Kaggle's Football Data from Transfermarkt: https://www.kaggle.com/datasets/davidcariboo/player-scores\n",
    "The dataset contains multiple CSV files with information about players, appearances, competitions, and games."
   ]
  },
  {
   "cell_type": "code",
   "execution_count": 1,
   "id": "3580b86a",
   "metadata": {},
   "outputs": [],
   "source": [
    "!pip install -q findspark\n",
    "!pip install -q pyspark"
   ]
  },
  {
   "cell_type": "code",
   "execution_count": 2,
   "id": "74e3a85c",
   "metadata": {},
   "outputs": [],
   "source": [
    "import findspark\n",
    "findspark.init()\n",
    "from pyspark.sql import SparkSession\n",
    "\n",
    "spark = SparkSession.builder.getOrCreate()"
   ]
  },
  {
   "cell_type": "markdown",
   "id": "926477e7",
   "metadata": {},
   "source": [
    "It is required to answer the following questions:\n",
    "\n",
    "1. the three countries with the most players born in that country. The order will be displayed in descending order."
   ]
  },
  {
   "cell_type": "code",
   "execution_count": 22,
   "id": "43dae01e",
   "metadata": {},
   "outputs": [
    {
     "name": "stdout",
     "output_type": "stream",
     "text": [
      "+---------+---------------+---------------------+---------------------+----------------+----------------------+-------------+----------+------------------+-----+------------+-------------------+---------------------------+---------------------------------------------------------------------------+\n",
      "|player_id|current_club_id|name                 |pretty_name          |country_of_birth|country_of_citizenship|date_of_birth|position  |sub_position      |foot |height_in_cm|market_value_in_gbp|highest_market_value_in_gbp|url                                                                        |\n",
      "+---------+---------------+---------------------+---------------------+----------------+----------------------+-------------+----------+------------------+-----+------------+-------------------+---------------------------+---------------------------------------------------------------------------+\n",
      "|38790    |28095          |dmitri-golubov       |Dmitri Golubov       |UdSSR           |Russia                |1985-06-24   |Attack    |Centre-Forward    |Both |178         |null               |675000.0                   |https://www.transfermarkt.co.uk/dmitri-golubov/profil/spieler/38790        |\n",
      "|106539   |28095          |aleksandr-vasiljev   |Aleksandr Vasiljev   |Russia          |Russia                |1992-01-23   |Attack    |Right Winger      |Right|182         |null               |225000.0                   |https://www.transfermarkt.co.uk/aleksandr-vasiljev/profil/spieler/106539   |\n",
      "|164389   |2288           |rory-donnelly        |Rory Donnelly        |Northern Ireland|Northern Ireland      |1992-02-18   |Attack    |Centre-Forward    |Right|188         |113000.0           |225000.0                   |https://www.transfermarkt.co.uk/rory-donnelly/profil/spieler/164389        |\n",
      "|45247    |1162           |damien-perquis       |Damien Perquis       |France          |France                |1986-03-08   |Goalkeeper|Goalkeeper        |Right|186         |null               |900000.0                   |https://www.transfermarkt.co.uk/damien-perquis/profil/spieler/45247        |\n",
      "|97205    |28095          |nikita-bezlikhotnov  |Nikita Bezlikhotnov  |UdSSR           |Russia                |1990-08-19   |Attack    |Right Winger      |Right|179         |null               |675000.0                   |https://www.transfermarkt.co.uk/nikita-bezlikhotnov/profil/spieler/97205   |\n",
      "|14962    |1177           |jesper-bech          |Jesper Bech          |null            |Denmark               |1982-05-25   |Midfield  |Central Midfield  |Left |177         |null               |1130000.0                  |https://www.transfermarkt.co.uk/jesper-bech/profil/spieler/14962           |\n",
      "|202836   |24             |yaffa-yusupha        |Yaffa Yusupha        |The Gambia      |The Gambia            |1996-12-31   |Attack    |Centre-Forward    |null |0           |null               |90000.0                    |https://www.transfermarkt.co.uk/yaffa-yusupha/profil/spieler/202836        |\n",
      "|40027    |5818           |ruben-nygaard        |Ruben Nygaard        |null            |Denmark               |1986-05-25   |Attack    |Right Winger      |Right|175         |null               |180000.0                   |https://www.transfermarkt.co.uk/ruben-nygaard/profil/spieler/40027         |\n",
      "|62065    |5818           |dennis-hoegh         |Dennis Hoegh         |Denmark         |Denmark               |1989-02-21   |Midfield  |Attacking Midfield|Right|184         |null               |225000.0                   |https://www.transfermarkt.co.uk/dennis-hoegh/profil/spieler/62065          |\n",
      "|203899   |403            |stijn-derkx          |Stijn Derkx          |Netherlands     |Netherlands           |1995-02-03   |Attack    |Centre-Forward    |Right|182         |null               |45000.0                    |https://www.transfermarkt.co.uk/stijn-derkx/profil/spieler/203899          |\n",
      "|48897    |1177           |ade-runsewe          |Ade Runsewe          |null            |Nigeria               |1989-12-01   |Attack    |Right Winger      |Right|176         |null               |315000.0                   |https://www.transfermarkt.co.uk/ade-runsewe/profil/spieler/48897           |\n",
      "|23367    |862            |alessio-sestu        |Alessio Sestu        |Italy           |Italy                 |1983-09-29   |Attack    |Right Winger      |Right|177         |null               |720000.0                   |https://www.transfermarkt.co.uk/alessio-sestu/profil/spieler/23367         |\n",
      "|107958   |862            |nicola-bellomo       |Nicola Bellomo       |Italy           |Italy                 |1991-02-18   |Midfield  |Attacking Midfield|Right|174         |null               |1620000.0                  |https://www.transfermarkt.co.uk/nicola-bellomo/profil/spieler/107958       |\n",
      "|103110   |5818           |frederik-hammershoj  |Frederik Hammershoj  |null            |Denmark               |1987-06-15   |Midfield  |Central Midfield  |Left |0           |null               |135000.0                   |https://www.transfermarkt.co.uk/frederik-hammershoj/profil/spieler/103110  |\n",
      "|45185    |862            |tomasz-kupisz        |Tomasz Kupisz        |Poland          |Poland                |1990-01-02   |Midfield  |Right Midfield    |Right|180         |null               |900000.0                   |https://www.transfermarkt.co.uk/tomasz-kupisz/profil/spieler/45185         |\n",
      "|334723   |800            |nicolas-napol        |Nicolas Napol        |France          |Belgium               |1996-04-03   |Attack    |Centre-Forward    |Right|186         |null               |68000.0                    |https://www.transfermarkt.co.uk/nicolas-napol/profil/spieler/334723        |\n",
      "|176130   |800            |lorenzo-rosseti      |Lorenzo Rosseti      |Italy           |Italy                 |1994-08-05   |Attack    |Centre-Forward    |Right|182         |null               |1080000.0                  |https://www.transfermarkt.co.uk/lorenzo-rosseti/profil/spieler/176130      |\n",
      "|47769    |1177           |bjarni-vidarsson     |Bjarni Vidarsson     |Iceland         |Iceland               |1988-03-05   |Midfield  |Central Midfield  |Both |187         |null               |900000.0                   |https://www.transfermarkt.co.uk/bjarni-vidarsson/profil/spieler/47769      |\n",
      "|20726    |800            |rolando-bianchi      |Rolando Bianchi      |Italy           |Italy                 |1983-02-15   |Attack    |Centre-Forward    |Right|188         |null               |1.17E7                     |https://www.transfermarkt.co.uk/rolando-bianchi/profil/spieler/20726       |\n",
      "|287631   |276            |pierluigi-cappelluzzo|Pierluigi Cappelluzzo|Italy           |Italy                 |1996-06-09   |Attack    |Centre-Forward    |Left |186         |null               |270000.0                   |https://www.transfermarkt.co.uk/pierluigi-cappelluzzo/profil/spieler/287631|\n",
      "+---------+---------------+---------------------+---------------------+----------------+----------------------+-------------+----------+------------------+-----+------------+-------------------+---------------------------+---------------------------------------------------------------------------+\n",
      "only showing top 20 rows\n",
      "\n",
      "root\n",
      " |-- player_id: integer (nullable = true)\n",
      " |-- current_club_id: integer (nullable = true)\n",
      " |-- name: string (nullable = true)\n",
      " |-- pretty_name: string (nullable = true)\n",
      " |-- country_of_birth: string (nullable = true)\n",
      " |-- country_of_citizenship: string (nullable = true)\n",
      " |-- date_of_birth: date (nullable = true)\n",
      " |-- position: string (nullable = true)\n",
      " |-- sub_position: string (nullable = true)\n",
      " |-- foot: string (nullable = true)\n",
      " |-- height_in_cm: integer (nullable = true)\n",
      " |-- market_value_in_gbp: double (nullable = true)\n",
      " |-- highest_market_value_in_gbp: double (nullable = true)\n",
      " |-- url: string (nullable = true)\n",
      "\n"
     ]
    }
   ],
   "source": [
    "players = spark.read.option('header',True).option('inferschema', True).csv('./data/players.csv')\n",
    "players.show(truncate=False)\n",
    "players.printSchema()"
   ]
  },
  {
   "cell_type": "code",
   "execution_count": 23,
   "id": "61c47b61",
   "metadata": {},
   "outputs": [
    {
     "name": "stdout",
     "output_type": "stream",
     "text": [
      "+----------------+-----+\n",
      "|country_of_birth|count|\n",
      "+----------------+-----+\n",
      "|          France| 1694|\n",
      "|           Spain| 1388|\n",
      "|           Italy| 1312|\n",
      "+----------------+-----+\n",
      "only showing top 3 rows\n",
      "\n"
     ]
    }
   ],
   "source": [
    "from pyspark.sql.functions import col, desc\n",
    "players.groupBy('country_of_birth').count().filter(players.country_of_birth.isNotNull()).orderBy(desc('count')).show(3)"
   ]
  },
  {
   "cell_type": "markdown",
   "id": "bde9c8af",
   "metadata": {},
   "source": [
    "2. Show the players with red card. The list must show the player's name and the number of red cards for each player."
   ]
  },
  {
   "cell_type": "code",
   "execution_count": 24,
   "id": "d6252f19",
   "metadata": {},
   "outputs": [
    {
     "name": "stdout",
     "output_type": "stream",
     "text": [
      "+---------+-------+-------------+--------------+--------------+-----+-------+--------------+------------+---------+\n",
      "|player_id|game_id|appearance_id|competition_id|player_club_id|goals|assists|minutes_played|yellow_cards|red_cards|\n",
      "+---------+-------+-------------+--------------+--------------+-----+-------+--------------+------------+---------+\n",
      "|    52453|2483937|2483937_52453|           RU1|         28095|    0|      0|            90|           0|        0|\n",
      "|    67064|2479929|2479929_67064|           RU1|         28095|    0|      0|            90|           0|        0|\n",
      "|    67064|2483937|2483937_67064|           RU1|         28095|    0|      0|            90|           0|        0|\n",
      "|    67064|2484582|2484582_67064|           RU1|         28095|    0|      0|            55|           0|        0|\n",
      "|    67064|2485965|2485965_67064|           RU1|         28095|    0|      0|            90|           0|        0|\n",
      "|    67064|2487345|2487345_67064|           RU1|         28095|    0|      0|            90|           1|        0|\n",
      "|    67064|2498464|2498464_67064|           RU1|         28095|    0|      0|            90|           0|        0|\n",
      "|    67064|2500260|2500260_67064|           RU1|         28095|    0|      1|            19|           0|        0|\n",
      "|    67064|2506733|2506733_67064|           RU1|         28095|    1|      0|            90|           1|        0|\n",
      "|    67064|2508366|2508366_67064|           RU1|         28095|    0|      0|             2|           0|        0|\n",
      "|    67064|2493717|2493717_67064|           RUP|         28095|    0|      0|            65|           0|        0|\n",
      "|    98558|2498464|2498464_98558|           RU1|         28095|    0|      0|            90|           0|        0|\n",
      "|    36227|2479927|2479927_36227|           RU1|          1186|    0|      0|            45|           1|        0|\n",
      "|    52453|2484582|2484582_52453|           RU1|         28095|    0|      0|            90|           0|        0|\n",
      "|    52453|2485965|2485965_52453|           RU1|         28095|    0|      0|            45|           0|        0|\n",
      "|    52453|2487345|2487345_52453|           RU1|         28095|    0|      0|            53|           0|        0|\n",
      "|    52453|2489341|2489341_52453|           RU1|         28095|    0|      0|            35|           0|        0|\n",
      "|    52453|2493788|2493788_52453|           RU1|         28095|    0|      1|            65|           0|        0|\n",
      "|    52453|2498464|2498464_52453|           RU1|         28095|    0|      0|            19|           0|        0|\n",
      "|    52453|2500260|2500260_52453|           RU1|         28095|    1|      0|            86|           0|        0|\n",
      "+---------+-------+-------------+--------------+--------------+-----+-------+--------------+------------+---------+\n",
      "only showing top 20 rows\n",
      "\n"
     ]
    }
   ],
   "source": [
    "appareances = spark.read.option('header',True).option('inferschema', True).csv('./data/appearances.csv')\n",
    "appareances.show()"
   ]
  },
  {
   "cell_type": "code",
   "execution_count": 25,
   "id": "a73219bd",
   "metadata": {},
   "outputs": [
    {
     "name": "stdout",
     "output_type": "stream",
     "text": [
      "+----------------+---------------+\n",
      "|     pretty_name|total_red_cards|\n",
      "+----------------+---------------+\n",
      "|      Thomas Lam|              5|\n",
      "| Mario Balotelli|              5|\n",
      "|    Granit Xhaka|              5|\n",
      "|Domenico Berardi|              5|\n",
      "|          Hilton|              5|\n",
      "| Damien Da Silva|              4|\n",
      "| Yannick Cahuzac|              4|\n",
      "|     Jaume Costa|              4|\n",
      "|   Heung Min Son|              4|\n",
      "| Gabriel Paletta|              4|\n",
      "|    Jordan Amavi|              4|\n",
      "|      Ante Rebic|              4|\n",
      "| Stefan Mitrovic|              4|\n",
      "| Rodrigo De Paul|              4|\n",
      "|         Rodrigo|              4|\n",
      "|     Ivan Ordets|              4|\n",
      "| Roberto Soriano|              4|\n",
      "|      Jordi Amat|              4|\n",
      "|  Ognjen Vranjes|              4|\n",
      "|      Allan Nyom|              4|\n",
      "+----------------+---------------+\n",
      "only showing top 20 rows\n",
      "\n"
     ]
    }
   ],
   "source": [
    "from pyspark.sql.functions import sum\n",
    "\n",
    "players_red_cards = appareances.groupBy('player_id').agg(sum('red_cards').alias('total_red_cards'))\n",
    "\n",
    "players_appareances = players_red_cards.join(players, players_red_cards['player_id'] == players['player_id'], 'left')\n",
    "\n",
    "players_appareances.select(col('pretty_name'), col('total_red_cards')).filter(col('total_red_cards') > 0).orderBy(desc('total_red_cards')).show()"
   ]
  },
  {
   "cell_type": "markdown",
   "id": "14a11f16",
   "metadata": {},
   "source": [
    "3. Show the number of games played in the Premier League. The result should have the name of the league and the number of games played in it."
   ]
  },
  {
   "cell_type": "code",
   "execution_count": 26,
   "id": "a17c3e4b",
   "metadata": {},
   "outputs": [
    {
     "name": "stdout",
     "output_type": "stream",
     "text": [
      "+--------------+--------------------+------------------+----------+------------+--------------------+-------------+--------------------+\n",
      "|competition_id|                name|              type|country_id|country_name|domestic_league_code|confederation|                 url|\n",
      "+--------------+--------------------+------------------+----------+------------+--------------------+-------------+--------------------+\n",
      "|            L1|          bundesliga|        first_tier|        40|     Germany|                  L1|       europa|https://www.trans...|\n",
      "|           DFB|           dfb-pokal|      domestic_cup|        40|     Germany|                  L1|       europa|https://www.trans...|\n",
      "|           DFL|        dfl-supercup|domestic_super_cup|        40|     Germany|                  L1|       europa|https://www.trans...|\n",
      "|           NL1|          eredivisie|        first_tier|       122| Netherlands|                 NL1|       europa|https://www.trans...|\n",
      "|           NLP|     toto-knvb-beker|      domestic_cup|       122| Netherlands|                 NL1|       europa|https://www.trans...|\n",
      "|          NLSC|johan-cruijff-schaal|domestic_super_cup|       122| Netherlands|                 NL1|       europa|https://www.trans...|\n",
      "|           BE1|  jupiler-pro-league|        first_tier|        19|     Belgium|                 BE1|       europa|https://www.trans...|\n",
      "|          BESC|    belgian-supercup|domestic_super_cup|        19|     Belgium|                 BE1|       europa|https://www.trans...|\n",
      "|           ES1|              laliga|        first_tier|       157|       Spain|                 ES1|       europa|https://www.trans...|\n",
      "|           CDR|        copa-del-rey|      domestic_cup|       157|       Spain|                 ES1|       europa|https://www.trans...|\n",
      "|           SUC|           supercopa|domestic_super_cup|       157|       Spain|                 ES1|       europa|https://www.trans...|\n",
      "|           PO1|  liga-portugal-bwin|        first_tier|       136|    Portugal|                 PO1|       europa|https://www.trans...|\n",
      "|          POCP|         allianz-cup|      domestic_cup|       136|    Portugal|                 PO1|       europa|https://www.trans...|\n",
      "|          POSU|supertaca-candido...|domestic_super_cup|       136|    Portugal|                 PO1|       europa|https://www.trans...|\n",
      "|           FR1|             ligue-1|        first_tier|        50|      France|                 FR1|       europa|https://www.trans...|\n",
      "|          FRCH|trophee-des-champ...|domestic_super_cup|        50|      France|                 FR1|       europa|https://www.trans...|\n",
      "|           GB1|      premier-league|        first_tier|       189|     England|                 GB1|       europa|https://www.trans...|\n",
      "|           CGB|             efl-cup|      domestic_cup|       189|     England|                 GB1|       europa|https://www.trans...|\n",
      "|          GBCS|    community-shield|domestic_super_cup|       189|     England|                 GB1|       europa|https://www.trans...|\n",
      "|           RU1|        premier-liga|        first_tier|       141|      Russia|                 RU1|       europa|https://www.trans...|\n",
      "+--------------+--------------------+------------------+----------+------------+--------------------+-------------+--------------------+\n",
      "only showing top 20 rows\n",
      "\n"
     ]
    }
   ],
   "source": [
    "competitions = spark.read.option('header',True).option('inferschema', True).csv('./data/competitions.csv')\n",
    "competitions.show()"
   ]
  },
  {
   "cell_type": "code",
   "execution_count": 19,
   "id": "4ff75aa4",
   "metadata": {},
   "outputs": [
    {
     "name": "stdout",
     "output_type": "stream",
     "text": [
      "+-------+----------------+------+-------------+----------+------------+------------+---------------+---------------+------------------+------------------+--------------------+----------+--------------------+--------------------+\n",
      "|game_id|competition_code|season|        round|      date|home_club_id|away_club_id|home_club_goals|away_club_goals|home_club_position|away_club_position|             stadium|attendance|             referee|                 url|\n",
      "+-------+----------------+------+-------------+----------+------------+------------+---------------+---------------+------------------+------------------+--------------------+----------+--------------------+--------------------+\n",
      "|2457642|            NLSC|  2014|        Final|2014-08-03|        1269|         610|              1|              0|              null|              null| Johan Cruijff ArenA|     42000|      Danny Makkelie|https://www.trans...|\n",
      "|2639088|            BESC|  2013|        Final|2014-07-20|          58|         498|              2|              1|              null|              null|Constant Vanden S...|     13733|     Jonathan Lardot|https://www.trans...|\n",
      "|2481145|             SUC|  2014|final 1st leg|2014-08-19|         418|          13|              1|              1|              null|              null|   Santiago Bernabéu|     75897|   Estrada Fernández|https://www.trans...|\n",
      "|2484338|            POSU|  2014|        Final|2014-08-10|         294|        2425|              3|              2|              null|              null|Estádio Municipal...|     30000|        Duarte Gomes|https://www.trans...|\n",
      "|2502472|            FRCH|  2014|        Final|2014-08-02|         583|         855|              2|              0|              null|              null|     Workers Stadium|     39752|      Clément Turpin|https://www.trans...|\n",
      "|2459774|             NL1|  2014| 21. Matchday|2015-02-05|         610|        1090|              0|              1|                 2|                 5| Johan Cruijff ArenA|     47724|      Pol van Boekel|https://www.trans...|\n",
      "|2480169|             PO1|  2014| 16. Matchday|2015-01-11|        2425|        1301|              0|              0|                 6|                10|   Estádio dos Arcos|      2230|       Tiago Martins|https://www.trans...|\n",
      "|2490887|             PO1|  2014| 20. Matchday|2015-02-08|        1085|        2990|              0|              0|                14|                16|   Estádio do Bonfim|      3500|     Fábio Veríssimo|https://www.trans...|\n",
      "|2498723|             PO1|  2014| 22. Matchday|2015-02-21|        1085|        3327|              0|              1|                15|                18|   Estádio do Bonfim|      2108|       Rui Rodrigues|https://www.trans...|\n",
      "|2479542|            POCP|  2014|      Group C|2014-08-13|        3345|        4750|              0|              0|              null|              null|      Estádio do Mar|       448|       Jorge Tavares|https://www.trans...|\n",
      "|2460640|              L1|  2014|  2. Matchday|2014-08-30|          86|         533|              1|              1|                 9|                 3|Wohninvest-Wesers...|     38900|     Robert Hartmann|https://www.trans...|\n",
      "|2460300|             GB1|  2014|  1. Matchday|2014-08-16|         985|        2288|              1|              2|                15|                 5|        Old Trafford|     75339|           Mike Dean|https://www.trans...|\n",
      "|2486545|             GB1|  2014|  8. Matchday|2014-10-18|         180|         289|              8|              0|                 3|                17|   St Mary's Stadium|     29615|      Andre Marriner|https://www.trans...|\n",
      "|2486598|             GB1|  2014| 13. Matchday|2014-11-30|         148|          29|              2|              1|                 7|                10|     White Hart Lane|     35901|      Michael Oliver|https://www.trans...|\n",
      "|2486692|             GB1|  2014| 23. Matchday|2015-01-31|        3008|         762|              0|              3|                18|                11|        KCOM Stadium|     23925|           Phil Dowd|https://www.trans...|\n",
      "|2486714|             GB1|  2014| 25. Matchday|2015-02-10|          31|         148|              3|              2|                 7|                 6|             Anfield|     44577|           Phil Dowd|https://www.trans...|\n",
      "|2486726|             GB1|  2014| 26. Matchday|2015-02-21|         289|         984|              0|              0|                16|                14|    Stadium of Light|     40943|          Mike Jones|https://www.trans...|\n",
      "|2475235|             ES1|  2014|  6. Matchday|2014-09-26|        1531|         940|              0|              1|                18|                 6|Manuel Martínez V...|     20852|Pedro Jesús Pérez...|https://www.trans...|\n",
      "|2475322|             ES1|  2014| 15. Matchday|2014-12-14|         681|         621|              1|              1|                14|                10|              Anoeta|     26651|David Fernández B...|https://www.trans...|\n",
      "|2475350|             ES1|  2014| 18. Matchday|2015-01-10|        1084|        1050|              1|              1|                 7|                 6|         La Rosaleda|     22077|Santiago Jaime Latre|https://www.trans...|\n",
      "+-------+----------------+------+-------------+----------+------------+------------+---------------+---------------+------------------+------------------+--------------------+----------+--------------------+--------------------+\n",
      "only showing top 20 rows\n",
      "\n"
     ]
    }
   ],
   "source": [
    "games = spark.read.option('header',True).option('inferschema', True).csv('./data/games.csv')\n",
    "games.show()"
   ]
  },
  {
   "cell_type": "code",
   "execution_count": 20,
   "id": "568ed3a8",
   "metadata": {},
   "outputs": [
    {
     "name": "stdout",
     "output_type": "stream",
     "text": [
      "+--------------+-----+\n",
      "|          name|count|\n",
      "+--------------+-----+\n",
      "|premier-league| 2809|\n",
      "+--------------+-----+\n",
      "\n"
     ]
    }
   ],
   "source": [
    "from pyspark.sql.functions import count\n",
    "games_premier_liga = games.join(competitions, col('competition_code') == col('competition_id'), 'left_outer')\n",
    "games_premier_liga.groupBy('name').count().filter(col('name') == 'premier-league').show()"
   ]
  },
  {
   "cell_type": "markdown",
   "id": "26fc1b1e",
   "metadata": {},
   "source": [
    "4. Show three leagues with the highest attendance by taking into account all the games played in them. The result must contain: league name and total attendance and must appear in descending order."
   ]
  },
  {
   "cell_type": "code",
   "execution_count": 21,
   "id": "10275055",
   "metadata": {},
   "outputs": [
    {
     "name": "stdout",
     "output_type": "stream",
     "text": [
      "+--------------+--------+\n",
      "|          name|     att|\n",
      "+--------------+--------+\n",
      "|premier-league|86964852|\n",
      "|    bundesliga|78102473|\n",
      "|        laliga|62943533|\n",
      "+--------------+--------+\n",
      "only showing top 3 rows\n",
      "\n"
     ]
    }
   ],
   "source": [
    "from pyspark.sql.functions import sum\n",
    "\n",
    "games_attendance = games_premier_liga.groupBy('name').agg(\n",
    "    sum('attendance').alias('att')\n",
    ").orderBy(desc('att')).show(3)"
   ]
  }
 ],
 "metadata": {
  "kernelspec": {
   "display_name": "Python 3 (ipykernel)",
   "language": "python",
   "name": "python3"
  },
  "language_info": {
   "codemirror_mode": {
    "name": "ipython",
    "version": 3
   },
   "file_extension": ".py",
   "mimetype": "text/x-python",
   "name": "python",
   "nbconvert_exporter": "python",
   "pygments_lexer": "ipython3",
   "version": "3.10.9"
  }
 },
 "nbformat": 4,
 "nbformat_minor": 5
}
